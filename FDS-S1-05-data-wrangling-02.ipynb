{
 "cells": [
  {
   "cell_type": "markdown",
   "metadata": {},
   "source": [
    "# Foundations of Data Science\n",
    "## S1 Week 05: Data wrangling II - groupby and regular expressions"
   ]
  },
  {
   "cell_type": "markdown",
   "metadata": {},
   "source": [
    "**Learning outcomes:** \n",
    "In this lab, we will build on what you have previously learned on preparing data for future use. By the end of the lab you should be able to:\n",
    "\n",
    "- use regular expressions to parse textual data\n",
    "- organise columns into indicator variables when appropriate\n",
    "- apply group-wise computations to your data\n",
    "\n",
    "In this week's lab, you will be analysing data from the course survey from last year, as well as data obtained from the department of Informatics timetabling. There are many instances whereby you might want to create a form and analyse user responses to it - let this be a lesson in how (not?) to design a form 🤔.\n",
    "\n",
    "**Data description:** The data from the first dataset for this lab originates from last year's course optional survey, which included several questions given to past students inquiring about their remote working setup, Python expertise and interests. The data was anonymised prior to being provided for this lab. The second dataset is the Informatics timetables which can be obtained from the web."
   ]
  },
  {
   "cell_type": "code",
   "execution_count": 2,
   "metadata": {},
   "outputs": [],
   "source": [
    "import os\n",
    "import re\n",
    "\n",
    "import pandas as pd\n",
    "import numpy as np\n",
    "import seaborn as sns\n",
    "import time"
   ]
  },
  {
   "cell_type": "markdown",
   "metadata": {},
   "source": [
    "## A. Exploring the survey data\n",
    "\n",
    "### A.1 Loading and preparing the survey data\n",
    "\n",
    "**Exercise 01:** Load `survey_data.xlsx` into a variable `survey_data`."
   ]
  },
  {
   "cell_type": "code",
   "execution_count": 5,
   "metadata": {},
   "outputs": [],
   "source": [
    "survey_data = pd.read_excel(\"../FDS-S1-05-data-wrangling-02/datasets/survey_data.xlsx\")"
   ]
  },
  {
   "cell_type": "markdown",
   "metadata": {},
   "source": [
    "Whenever working with data, remember it's important to first get an idea of what your data looks like. Let's start by having a look at the dtypes of the columns."
   ]
  },
  {
   "cell_type": "code",
   "execution_count": 6,
   "metadata": {},
   "outputs": [
    {
     "name": "stdout",
     "output_type": "stream",
     "text": [
      "<class 'pandas.core.frame.DataFrame'>\n",
      "RangeIndex: 331 entries, 0 to 330\n",
      "Data columns (total 6 columns):\n",
      " #   Column                                                                             Non-Null Count  Dtype \n",
      "---  ------                                                                             --------------  ----- \n",
      " 0   ID                                                                                 331 non-null    int64 \n",
      " 1   My  preference for tutorial location is                                            329 non-null    object\n",
      " 2   When the time is 10:00 (10am) in the UK, what is the time in my current location?  325 non-null    object\n",
      " 3   My expertise with Python is                                                        330 non-null    object\n",
      " 4   My IT equipment includes                                                           330 non-null    object\n",
      " 5   My interests include                                                               325 non-null    object\n",
      "dtypes: int64(1), object(5)\n",
      "memory usage: 15.6+ KB\n"
     ]
    }
   ],
   "source": [
    "survey_data.info()"
   ]
  },
  {
   "cell_type": "markdown",
   "metadata": {},
   "source": [
    "With the exception of 'ID', pandas has inferred the types of the remaining columns as Python 'objects' (text or mixed numeric and non-numeric values). In particular, notice that we have a column named as though it should contain a timestamp, '...what is the time in my current location?'. We'll look at converting this to a proper time format.\n",
    "\n",
    "But first, you might (not!) have noticed the double space typo in the second column name. Let's tidy up some of the names so they're easier to reference later. Using [`pandas.DataFrame.rename()`](https://pandas.pydata.org/docs/reference/api/pandas.DataFrame.rename.htmlhttps://pandas.pydata.org/docs/reference/api/pandas.DataFrame.rename.html), we can specify the names of existing columns and what they should be renamed to."
   ]
  },
  {
   "cell_type": "code",
   "execution_count": 7,
   "metadata": {},
   "outputs": [
    {
     "name": "stdout",
     "output_type": "stream",
     "text": [
      "Column names: ['ID', 'Preferred tutorial loc', 'Time at 10:00 BST', 'Python expertise', 'IT equipment', 'Interests']\n"
     ]
    }
   ],
   "source": [
    "survey_data = survey_data.rename(columns={survey_data.columns[1]: 'Preferred tutorial loc', # This is equivalent to {'My  preference for tutorial location is': 'Preferred tutorial loc', ...\n",
    "                                          survey_data.columns[2]: 'Time at 10:00 BST',\n",
    "                                          survey_data.columns[3]: 'Python expertise',\n",
    "                                          survey_data.columns[4]: 'IT equipment',\n",
    "                                          survey_data.columns[5]: 'Interests'})\n",
    "print(\"Column names:\", list(survey_data.columns))"
   ]
  },
  {
   "cell_type": "markdown",
   "metadata": {},
   "source": [
    "Although date and time are not a data type of their own in Python, the [Datetime](https://docs.python.org/3/library/datetime.html#module-datetime) module supplies classes and functions to work with them. Representing textual time columns as Datetime objects can be handy for querying rows that meet specific time conditions and performing simple date and time arithmetic. The pandas equivalent to the Python Datetime object is [Timestamp](https://pandas.pydata.org/docs/reference/api/pandas.Timestamp.html).\n",
    "\n",
    "### A.2 Converting textual time data to a datetime representation\n",
    "\n",
    "One option is to use [`pd.to_datetime()`](https://pandas.pydata.org/docs/reference/api/pandas.to_datetime.html) to convert the string values in a column to a Timestamp if the string meets a format of our choice (specified using [strftime](https://docs.python.org/3/library/datetime.html#strftime-and-strptime-behavior) date format codes, e.g. `%m/%d/%Y` to match with `12/19/1995`). This function has the pandas `errors` argument that we've seen before in lab 2 (in `pd.to_numeric`), allowing us to `raise` an error if a value doesn't match the desired format, `coerce` it to be set as `NaT` or `ignore` it to return it as it is.\n",
    "\n",
    "If the values in our time column don't follow a rigid string format already, we might end up losing a lot of our data.\n",
    "\n",
    "**Exercise 02:** Print out the _unique_ values in the 'Time at 10:00 BST' column and their corresponding count in the column.\n",
    "\n",
    "**Hint:** A single pandas method can be used for this."
   ]
  },
  {
   "cell_type": "code",
   "execution_count": 8,
   "metadata": {},
   "outputs": [
    {
     "data": {
      "text/plain": [
       "array(['17:00', '10:00', '12:00', '15:00', '18:00', '10am', '14:00',\n",
       "       '11:00', '5pm', '13:00', '10 am', '14:30', '12:54', '16:00',\n",
       "       '1300 (when 10:00BST) 1400(if 10:00GMT)', '11:00 AM', nan, '1000',\n",
       "       '10:00AM', '10', '10:00am', '19:00', '10.00', '17：00', '18',\n",
       "       '10:00 am', '14:54', '1700', '10:00(10am)', '18：00', '02:00'],\n",
       "      dtype=object)"
      ]
     },
     "execution_count": 8,
     "metadata": {},
     "output_type": "execute_result"
    }
   ],
   "source": [
    "pd.unique(survey_data['Time at 10:00 BST'])"
   ]
  },
  {
   "cell_type": "markdown",
   "metadata": {},
   "source": [
    "**Discussion 01:** Did you expect to see so many variations in the format of the values in the time column? Discuss with your partner the implications of this on using the function [`pd.to_datetime()`](https://pandas.pydata.org/docs/reference/api/pandas.to_datetime.html) to convert the column to a datetime representation. What [`strftime()`](https://docs.python.org/3/library/datetime.html#strftime-and-strptime-behavior) format could you use to successfully convert most of the values?"
   ]
  },
  {
   "cell_type": "markdown",
   "metadata": {},
   "source": [
    "Your answer:"
   ]
  },
  {
   "cell_type": "markdown",
   "metadata": {},
   "source": [
    "How else could we clean up more of the textual time column prior to attempting to convert it a useful datetime type?\n",
    "\n",
    "### Regular expressions\n",
    "\n",
    "You may have encountered [regular expressions](https://en.wikipedia.org/wiki/Regular_expression) before, which are also referred to as __regexs__. These are sets of character combinations that Python (and many other programming languages) can understand and use as rules to search through character strings.\n",
    "\n",
    "You can use these regex rules to ask questions such as “Does this string match the pattern?”, or “Is there a match for the pattern anywhere in this string?”. You can also use regexs to modify or split apart a string in various ways.\n",
    "\n",
    "We can use the Python [`re`](https://docs.python.org/3/library/re.html) package for this. Some simple examples are shown in the cell below."
   ]
  },
  {
   "cell_type": "code",
   "execution_count": 9,
   "metadata": {},
   "outputs": [
    {
     "name": "stdout",
     "output_type": "stream",
     "text": [
      "<re.Match object; span=(0, 5), match='Sarah'>\n",
      "<re.Match object; span=(0, 4), match='Sara'>\n",
      "None\n",
      "['h', 'h']\n",
      "['Sarah', 'Sarah']\n"
     ]
    }
   ],
   "source": [
    "# Simple example: a pattern that matches with the first name Sarah or Sara\n",
    "pattern = '^Sara(h?)$'\n",
    "# ^ matches with the start\n",
    "# () contains an expression to capture and group\n",
    "# ? zero or one occurrence\n",
    "# $ matches with the end\n",
    "\n",
    "# re.search looks for any location where the regex matches; re.match checks only the beginning.\n",
    "# If successful, it returns a Match object with info such as where the match starts and ends,\n",
    "# the substring it matched, and more. If no match is found, None is returned.\n",
    "print(re.search(pattern, 'Sarah'))\n",
    "print(re.search(pattern, 'Sara'))\n",
    "print(re.search(pattern, 'sarah'))\n",
    "\n",
    "# re.findall returns all substrings where the regex matches as a list\n",
    "eg_sentence = 'Sarah went to the park. Sarah wished it would rain.'\n",
    "print(re.findall('Sara(h?)', eg_sentence))\n",
    "print(re.findall('Sara(?:h)', eg_sentence))\n",
    "# The last statement uses (?:...), a non-capturing version of regular parentheses.\n",
    "# It matches whatever regex is inside the parentheses, but the substring matched by the group cannot\n",
    "# be retrieved after performing a match or referenced later in the pattern (re.findall otherwise returns the matched group only)."
   ]
  },
  {
   "cell_type": "markdown",
   "metadata": {},
   "source": [
    "Several [methods](https://docs.python.org/3/library/re.html#match-objects) can be called on the 'Match' object that's returned to us. One useful method is `group()` which returns one or more string subgroups of the match. By default it returns the entire match, but if we pass an integer (up to 100) the substring matching the corresponding parenthesised group is returned."
   ]
  },
  {
   "cell_type": "markdown",
   "metadata": {},
   "source": [
    "**Excerise 03:** Can you consult the Python [regex syntax](https://docs.python.org/3/library/re.html) documentation to construct a general regular expression pattern to extract the string 'bulldog' from the string 'data/CIFAR-10/images/bulldog_146.jpg'."
   ]
  },
  {
   "cell_type": "code",
   "execution_count": 14,
   "metadata": {},
   "outputs": [
    {
     "name": "stdout",
     "output_type": "stream",
     "text": [
      "['bulldog']\n"
     ]
    }
   ],
   "source": [
    "search_str = 'data/CIFAR-10/images/bulldog_146.png'\n",
    "print(re.findall('bulldog', search_str))"
   ]
  },
  {
   "cell_type": "markdown",
   "metadata": {},
   "source": [
    "So, back to cleaning up the time data column. We can use regular expressions to define a set of rules that progressively capture the variations in the format of strings in the 'Time at 10:00 BST' column, and substitute the matched sub-strings appropriately to convert them to a consistent string format.\n",
    "\n",
    "**Exercise 04:** In the cell below, `time_clean()` is a stub of a function that cleans the times. We've done some of the more tricky replacements for you, and your task is to try making some of the other replacements. Because this could be a very time-consuming and frustrating exercise, we've given the solution in the file `functions.py`. If you want to move on and come back to the exercise, you can do so by uncommenting the `import` line below."
   ]
  },
  {
   "cell_type": "code",
   "execution_count": 27,
   "metadata": {},
   "outputs": [
    {
     "name": "stdout",
     "output_type": "stream",
     "text": [
      "10:00(10am)  -> 10:00\n"
     ]
    }
   ],
   "source": [
    "def time_clean(t):\n",
    "    \"\"\"Clean a string from the survey data to a consistent string format ('%H:%M').\n",
    "    This function should handle the string cases found in Exercise 02.\"\"\"\n",
    "    if isinstance(t, str):  # NaN values will be of type float\n",
    "        # re.sub replaces the parts of a string matching a pattern with a desired replacement\n",
    "        t = re.sub('：', ':', t) # Replace \"fullwidth colon\" (Unicode character U+FF1A) with standard colon\n",
    "        t = re.sub(' +', '', t) # Remove spaces in the middle of the string\n",
    "        if re.match('^([^:]+)[Pp][Mm]', t): # 5pm -> 17:00\n",
    "            hour = re.sub('^([^:]+)[Pp][Mm]', '\\\\1', t)\n",
    "            t = str((int(hour) + 12)) + \":00\"\n",
    "        # Your answer:    \n",
    "        # More lines in the format\n",
    "        \n",
    "    \n",
    "    return(t)\n",
    "\n",
    "# Uncomment the following for a function that works\n",
    "from solutions import time_clean \n",
    "\n",
    "# Example string to clean\n",
    "example_time = \"10:00(10am) \"\n",
    "print(example_time, \"->\", time_clean(example_time))"
   ]
  },
  {
   "cell_type": "markdown",
   "metadata": {},
   "source": [
    "**Exercise 05:** Use `time_clean()` to convert each value in the 'Time at 10:00 BST' column to a pandas Timestamp format."
   ]
  },
  {
   "cell_type": "code",
   "execution_count": 20,
   "metadata": {},
   "outputs": [],
   "source": [
    "survey_data[\"Time at 10:00 BST\"] = survey_data[\"Time at 10:00 BST\"].apply(time_clean)"
   ]
  },
  {
   "cell_type": "markdown",
   "metadata": {},
   "source": [
    "Now that our column is represented as a datetime, we can perform time-related queries on it such as,"
   ]
  },
  {
   "cell_type": "code",
   "execution_count": 21,
   "metadata": {},
   "outputs": [
    {
     "name": "stdout",
     "output_type": "stream",
     "text": [
      "Number of users in the 'pm' during the lecture: 82\n"
     ]
    }
   ],
   "source": [
    "after_midday = survey_data['Time at 10:00 BST'] >= \"12:00\"\n",
    "pm_df = survey_data.loc[after_midday]\n",
    "print(\"Number of users in the 'pm' during the lecture:\", pm_df.shape[0])"
   ]
  },
  {
   "cell_type": "markdown",
   "metadata": {},
   "source": [
    "**Exercise 06:** Query the data to determine:\n",
    "\n",
    "a) the earliest time the lecture takes place for any of the students.\n",
    "\n",
    "b) the number of users that are local to UK time."
   ]
  },
  {
   "cell_type": "code",
   "execution_count": 64,
   "metadata": {},
   "outputs": [
    {
     "data": {
      "text/plain": [
       "Timestamp('1900-01-01 02:00:00')"
      ]
     },
     "execution_count": 64,
     "metadata": {},
     "output_type": "execute_result"
    }
   ],
   "source": [
    "survey_data[\"Time at 10:00 BST\"] = pd.to_datetime(survey_data[\"Time at 10:00 BST\"], format=\"%H:%M\")\n",
    "survey_data[\"Time at 10:00 BST\"].min()"
   ]
  },
  {
   "cell_type": "markdown",
   "metadata": {},
   "source": [
    "### A.3 Dummy / Indicator variables\n",
    "\n",
    "The survey data has several columns that contain categorical entries, and users can have multiple categorical options for 'IT equipment' and 'Interests' which are currently separated by semicolons. \n",
    "\n",
    "Depending on the analysis you might want to perform, it can be beneficial and neccessary to create dummy or indicator variables in order to handle numerical computations on your data. These are binary variables that indicates whether a separate categorical variable takes on a specific value for an entry."
   ]
  },
  {
   "cell_type": "markdown",
   "metadata": {},
   "source": [
    "[`pd.Series.str.get_dummies()`](https://pandas.pydata.org/docs/reference/api/pandas.Series.str.get_dummies.html) is a function we can use to convert our categorical variable into dummy/indicator variables. We use dummy variables when applying regression and classification algorithms to categorical data. It also has a handy argument for specifying a separator on which to split our multiple entries by. After converting to this format, the presence of the category receives a value of 1 and in its absence the value is 0."
   ]
  },
  {
   "cell_type": "code",
   "execution_count": 54,
   "metadata": {},
   "outputs": [
    {
     "data": {
      "text/html": [
       "<div>\n",
       "<style scoped>\n",
       "    .dataframe tbody tr th:only-of-type {\n",
       "        vertical-align: middle;\n",
       "    }\n",
       "\n",
       "    .dataframe tbody tr th {\n",
       "        vertical-align: top;\n",
       "    }\n",
       "\n",
       "    .dataframe thead th {\n",
       "        text-align: right;\n",
       "    }\n",
       "</style>\n",
       "<table border=\"1\" class=\"dataframe\">\n",
       "  <thead>\n",
       "    <tr style=\"text-align: right;\">\n",
       "      <th></th>\n",
       "      <th>Internet is mostly high speed and reliable but there are often power outages</th>\n",
       "      <th>Average internet</th>\n",
       "      <th>Camera</th>\n",
       "      <th>Desktop</th>\n",
       "      <th>High speed internet, but it may break for two or three minute several times a day</th>\n",
       "      <th>High speed reliable internet</th>\n",
       "      <th>Laptop</th>\n",
       "      <th>Mobile phone</th>\n",
       "      <th>Not sure about internet speed as not moved into flat but according to the letting agency they have never had complaints about it</th>\n",
       "      <th>Tablet</th>\n",
       "      <th>wifi that not reliable</th>\n",
       "    </tr>\n",
       "  </thead>\n",
       "  <tbody>\n",
       "    <tr>\n",
       "      <th>0</th>\n",
       "      <td>0</td>\n",
       "      <td>0</td>\n",
       "      <td>0</td>\n",
       "      <td>0</td>\n",
       "      <td>0</td>\n",
       "      <td>1</td>\n",
       "      <td>1</td>\n",
       "      <td>1</td>\n",
       "      <td>0</td>\n",
       "      <td>1</td>\n",
       "      <td>0</td>\n",
       "    </tr>\n",
       "    <tr>\n",
       "      <th>1</th>\n",
       "      <td>0</td>\n",
       "      <td>0</td>\n",
       "      <td>0</td>\n",
       "      <td>1</td>\n",
       "      <td>0</td>\n",
       "      <td>0</td>\n",
       "      <td>1</td>\n",
       "      <td>1</td>\n",
       "      <td>0</td>\n",
       "      <td>0</td>\n",
       "      <td>0</td>\n",
       "    </tr>\n",
       "    <tr>\n",
       "      <th>2</th>\n",
       "      <td>0</td>\n",
       "      <td>0</td>\n",
       "      <td>1</td>\n",
       "      <td>1</td>\n",
       "      <td>0</td>\n",
       "      <td>1</td>\n",
       "      <td>1</td>\n",
       "      <td>1</td>\n",
       "      <td>0</td>\n",
       "      <td>1</td>\n",
       "      <td>0</td>\n",
       "    </tr>\n",
       "    <tr>\n",
       "      <th>3</th>\n",
       "      <td>0</td>\n",
       "      <td>0</td>\n",
       "      <td>1</td>\n",
       "      <td>0</td>\n",
       "      <td>0</td>\n",
       "      <td>0</td>\n",
       "      <td>1</td>\n",
       "      <td>1</td>\n",
       "      <td>0</td>\n",
       "      <td>0</td>\n",
       "      <td>0</td>\n",
       "    </tr>\n",
       "    <tr>\n",
       "      <th>4</th>\n",
       "      <td>0</td>\n",
       "      <td>0</td>\n",
       "      <td>1</td>\n",
       "      <td>0</td>\n",
       "      <td>0</td>\n",
       "      <td>0</td>\n",
       "      <td>1</td>\n",
       "      <td>1</td>\n",
       "      <td>0</td>\n",
       "      <td>0</td>\n",
       "      <td>0</td>\n",
       "    </tr>\n",
       "  </tbody>\n",
       "</table>\n",
       "</div>"
      ],
      "text/plain": [
       "    Internet is mostly high speed and reliable but there are often power outages   \\\n",
       "0                                                  0                                \n",
       "1                                                  0                                \n",
       "2                                                  0                                \n",
       "3                                                  0                                \n",
       "4                                                  0                                \n",
       "\n",
       "   Average internet  Camera  Desktop  \\\n",
       "0                 0       0        0   \n",
       "1                 0       0        1   \n",
       "2                 0       1        1   \n",
       "3                 0       1        0   \n",
       "4                 0       1        0   \n",
       "\n",
       "   High speed internet, but it may break for two or three minute several times a day  \\\n",
       "0                                                  0                                   \n",
       "1                                                  0                                   \n",
       "2                                                  0                                   \n",
       "3                                                  0                                   \n",
       "4                                                  0                                   \n",
       "\n",
       "   High speed reliable internet  Laptop  Mobile phone  \\\n",
       "0                             1       1             1   \n",
       "1                             0       1             1   \n",
       "2                             1       1             1   \n",
       "3                             0       1             1   \n",
       "4                             0       1             1   \n",
       "\n",
       "   Not sure about internet speed as not moved into flat but according to the letting agency they have never had complaints about it  \\\n",
       "0                                                  0                                                                                  \n",
       "1                                                  0                                                                                  \n",
       "2                                                  0                                                                                  \n",
       "3                                                  0                                                                                  \n",
       "4                                                  0                                                                                  \n",
       "\n",
       "   Tablet  wifi that not reliable  \n",
       "0       1                       0  \n",
       "1       0                       0  \n",
       "2       1                       0  \n",
       "3       0                       0  \n",
       "4       0                       0  "
      ]
     },
     "execution_count": 54,
     "metadata": {},
     "output_type": "execute_result"
    }
   ],
   "source": [
    "equipment_expanded = survey_data['IT equipment'].str.get_dummies(sep=\";\")\n",
    "equipment_expanded.head()"
   ]
  },
  {
   "cell_type": "code",
   "execution_count": 65,
   "metadata": {},
   "outputs": [
    {
     "data": {
      "text/html": [
       "<div>\n",
       "<style scoped>\n",
       "    .dataframe tbody tr th:only-of-type {\n",
       "        vertical-align: middle;\n",
       "    }\n",
       "\n",
       "    .dataframe tbody tr th {\n",
       "        vertical-align: top;\n",
       "    }\n",
       "\n",
       "    .dataframe thead th {\n",
       "        text-align: right;\n",
       "    }\n",
       "</style>\n",
       "<table border=\"1\" class=\"dataframe\">\n",
       "  <thead>\n",
       "    <tr style=\"text-align: right;\">\n",
       "      <th></th>\n",
       "      <th>ID</th>\n",
       "      <th>Preferred tutorial loc</th>\n",
       "      <th>Time at 10:00 BST</th>\n",
       "      <th>Python expertise</th>\n",
       "      <th>IT equipment</th>\n",
       "      <th>Interests</th>\n",
       "      <th>Internet is mostly high speed and reliable but there are often power outages</th>\n",
       "      <th>Average internet</th>\n",
       "      <th>Camera</th>\n",
       "      <th>Desktop</th>\n",
       "      <th>High speed internet, but it may break for two or three minute several times a day</th>\n",
       "      <th>High speed reliable internet</th>\n",
       "      <th>Laptop</th>\n",
       "      <th>Mobile phone</th>\n",
       "      <th>Not sure about internet speed as not moved into flat but according to the letting agency they have never had complaints about it</th>\n",
       "      <th>Tablet</th>\n",
       "      <th>wifi that not reliable</th>\n",
       "    </tr>\n",
       "  </thead>\n",
       "  <tbody>\n",
       "    <tr>\n",
       "      <th>0</th>\n",
       "      <td>1</td>\n",
       "      <td>Online</td>\n",
       "      <td>1900-01-01 17:00:00</td>\n",
       "      <td>Some experience</td>\n",
       "      <td>Laptop;High speed reliable internet;Tablet;Mob...</td>\n",
       "      <td>Science;Nature;Politics;Music;Sports;</td>\n",
       "      <td>0</td>\n",
       "      <td>0</td>\n",
       "      <td>0</td>\n",
       "      <td>0</td>\n",
       "      <td>0</td>\n",
       "      <td>1</td>\n",
       "      <td>1</td>\n",
       "      <td>1</td>\n",
       "      <td>0</td>\n",
       "      <td>1</td>\n",
       "      <td>0</td>\n",
       "    </tr>\n",
       "    <tr>\n",
       "      <th>1</th>\n",
       "      <td>2</td>\n",
       "      <td>Online</td>\n",
       "      <td>1900-01-01 17:00:00</td>\n",
       "      <td>No experience</td>\n",
       "      <td>Laptop;Mobile phone;Desktop;</td>\n",
       "      <td>Science;Sports;</td>\n",
       "      <td>0</td>\n",
       "      <td>0</td>\n",
       "      <td>0</td>\n",
       "      <td>1</td>\n",
       "      <td>0</td>\n",
       "      <td>0</td>\n",
       "      <td>1</td>\n",
       "      <td>1</td>\n",
       "      <td>0</td>\n",
       "      <td>0</td>\n",
       "      <td>0</td>\n",
       "    </tr>\n",
       "    <tr>\n",
       "      <th>2</th>\n",
       "      <td>3</td>\n",
       "      <td>Online</td>\n",
       "      <td>1900-01-01 17:00:00</td>\n",
       "      <td>Some experience</td>\n",
       "      <td>Laptop;Desktop;Tablet;Camera;Mobile phone;High...</td>\n",
       "      <td>Science;</td>\n",
       "      <td>0</td>\n",
       "      <td>0</td>\n",
       "      <td>1</td>\n",
       "      <td>1</td>\n",
       "      <td>0</td>\n",
       "      <td>1</td>\n",
       "      <td>1</td>\n",
       "      <td>1</td>\n",
       "      <td>0</td>\n",
       "      <td>1</td>\n",
       "      <td>0</td>\n",
       "    </tr>\n",
       "    <tr>\n",
       "      <th>3</th>\n",
       "      <td>4</td>\n",
       "      <td>Online</td>\n",
       "      <td>1900-01-01 10:00:00</td>\n",
       "      <td>No experience</td>\n",
       "      <td>Laptop;Mobile phone;Camera;</td>\n",
       "      <td>Politics;Sports;Science;</td>\n",
       "      <td>0</td>\n",
       "      <td>0</td>\n",
       "      <td>1</td>\n",
       "      <td>0</td>\n",
       "      <td>0</td>\n",
       "      <td>0</td>\n",
       "      <td>1</td>\n",
       "      <td>1</td>\n",
       "      <td>0</td>\n",
       "      <td>0</td>\n",
       "      <td>0</td>\n",
       "    </tr>\n",
       "    <tr>\n",
       "      <th>4</th>\n",
       "      <td>5</td>\n",
       "      <td>On campus</td>\n",
       "      <td>1900-01-01 10:00:00</td>\n",
       "      <td>No experience</td>\n",
       "      <td>Laptop;Camera;Mobile phone;</td>\n",
       "      <td>Science;Sports;Politics;</td>\n",
       "      <td>0</td>\n",
       "      <td>0</td>\n",
       "      <td>1</td>\n",
       "      <td>0</td>\n",
       "      <td>0</td>\n",
       "      <td>0</td>\n",
       "      <td>1</td>\n",
       "      <td>1</td>\n",
       "      <td>0</td>\n",
       "      <td>0</td>\n",
       "      <td>0</td>\n",
       "    </tr>\n",
       "  </tbody>\n",
       "</table>\n",
       "</div>"
      ],
      "text/plain": [
       "   ID Preferred tutorial loc   Time at 10:00 BST Python expertise  \\\n",
       "0   1                 Online 1900-01-01 17:00:00  Some experience   \n",
       "1   2                 Online 1900-01-01 17:00:00    No experience   \n",
       "2   3                 Online 1900-01-01 17:00:00  Some experience   \n",
       "3   4                 Online 1900-01-01 10:00:00    No experience   \n",
       "4   5              On campus 1900-01-01 10:00:00    No experience   \n",
       "\n",
       "                                        IT equipment  \\\n",
       "0  Laptop;High speed reliable internet;Tablet;Mob...   \n",
       "1                       Laptop;Mobile phone;Desktop;   \n",
       "2  Laptop;Desktop;Tablet;Camera;Mobile phone;High...   \n",
       "3                        Laptop;Mobile phone;Camera;   \n",
       "4                        Laptop;Camera;Mobile phone;   \n",
       "\n",
       "                               Interests  \\\n",
       "0  Science;Nature;Politics;Music;Sports;   \n",
       "1                        Science;Sports;   \n",
       "2                               Science;   \n",
       "3               Politics;Sports;Science;   \n",
       "4               Science;Sports;Politics;   \n",
       "\n",
       "    Internet is mostly high speed and reliable but there are often power outages   \\\n",
       "0                                                  0                                \n",
       "1                                                  0                                \n",
       "2                                                  0                                \n",
       "3                                                  0                                \n",
       "4                                                  0                                \n",
       "\n",
       "   Average internet  Camera  Desktop  \\\n",
       "0                 0       0        0   \n",
       "1                 0       0        1   \n",
       "2                 0       1        1   \n",
       "3                 0       1        0   \n",
       "4                 0       1        0   \n",
       "\n",
       "   High speed internet, but it may break for two or three minute several times a day  \\\n",
       "0                                                  0                                   \n",
       "1                                                  0                                   \n",
       "2                                                  0                                   \n",
       "3                                                  0                                   \n",
       "4                                                  0                                   \n",
       "\n",
       "   High speed reliable internet  Laptop  Mobile phone  \\\n",
       "0                             1       1             1   \n",
       "1                             0       1             1   \n",
       "2                             1       1             1   \n",
       "3                             0       1             1   \n",
       "4                             0       1             1   \n",
       "\n",
       "   Not sure about internet speed as not moved into flat but according to the letting agency they have never had complaints about it  \\\n",
       "0                                                  0                                                                                  \n",
       "1                                                  0                                                                                  \n",
       "2                                                  0                                                                                  \n",
       "3                                                  0                                                                                  \n",
       "4                                                  0                                                                                  \n",
       "\n",
       "   Tablet  wifi that not reliable  \n",
       "0       1                       0  \n",
       "1       0                       0  \n",
       "2       1                       0  \n",
       "3       0                       0  \n",
       "4       0                       0  "
      ]
     },
     "execution_count": 65,
     "metadata": {},
     "output_type": "execute_result"
    }
   ],
   "source": [
    "survey_equip_expanded = pd.concat([survey_data, equipment_expanded], axis=1)\n",
    "survey_equip_expanded.head()"
   ]
  },
  {
   "cell_type": "markdown",
   "metadata": {},
   "source": [
    "**Exercise 07 (optional):** You will see that some of the column headers are very long. This is because, along with a categorical list of 'IT equipment', users could also specify free-written responses to contain extra details. Write a regular expression that removes any sub-entry specified which is longer than three words and apply it to the 'IT equipment' column. Make sure to keep an eye out for NaN values and whitespace. Then repeat the conversion above to dummy variables."
   ]
  },
  {
   "cell_type": "code",
   "execution_count": null,
   "metadata": {},
   "outputs": [],
   "source": [
    "# Your code"
   ]
  },
  {
   "cell_type": "markdown",
   "metadata": {},
   "source": [
    "## B. School of Informatics timetabling\n",
    "\n",
    "### B.1 Loading the Informatics timetables\n",
    "\n",
    "The timetables for courses in the School of Informatics can be found online (e.g. see ours [here](https://www.ted.is.ed.ac.uk/UOE2021_SWS/TIMETABLE.ASP?OBJECTCLASS=MODULE&IDENTIFIER=INFR08030_SS1_YR&STYLE=TEXTSPREADSHEET&TEMPLATE=SWSCUST+OBJECT+TEXTSPREADSHEET&WEEK=9-37)). We downloaded the webpage specifying the timetables for all of the courses within the School of Informatics for Semester 1 in 2021-22; see `SWSCUST Object TextSpreadsheet.html` in the `datasets` folder. The timetables are written in Hypertext Markup Language (HTML), a language which defines the meaning and structure of web content. It's exactly what you would see if you looked at the page source in the browser.\n",
    "\n",
    "We will learn more about the details of web-scraping in a later lab. Today we will focus on using pandas to read a HTML file and performing group-wise computations across the data."
   ]
  },
  {
   "cell_type": "markdown",
   "metadata": {},
   "source": [
    "One option for specifically parsing HTML tables is to use [`pd.read_html()`](https://pandas.pydata.org/docs/reference/api/pandas.read_html.html). This function searches for the `<table>` elements in the HTML page and returns them as a list. \n",
    "\n",
    "We advise opening 'SWSCUST Object TextSpreadsheet.html' in your web-browser to have a better look at it. You might notice that many of the tables are empty, under certain days of the week for example. We can use the `match` argument to only return tables that contain text matching a string or regular expression that we specify. The value defaults to `.+` (i.e. matches any non-empty string)."
   ]
  },
  {
   "cell_type": "code",
   "execution_count": 3,
   "metadata": {},
   "outputs": [
    {
     "name": "stdout",
     "output_type": "stream",
     "text": [
      "Tables parsed: 160\n",
      "Example table:\n"
     ]
    },
    {
     "data": {
      "text/html": [
       "<div>\n",
       "<style scoped>\n",
       "    .dataframe tbody tr th:only-of-type {\n",
       "        vertical-align: middle;\n",
       "    }\n",
       "\n",
       "    .dataframe tbody tr th {\n",
       "        vertical-align: top;\n",
       "    }\n",
       "\n",
       "    .dataframe thead th {\n",
       "        text-align: right;\n",
       "    }\n",
       "</style>\n",
       "<table border=\"1\" class=\"dataframe\">\n",
       "  <thead>\n",
       "    <tr style=\"text-align: right;\">\n",
       "      <th></th>\n",
       "      <th>Activity</th>\n",
       "      <th>Description</th>\n",
       "      <th>Type</th>\n",
       "      <th>Start</th>\n",
       "      <th>End</th>\n",
       "      <th>Weeks</th>\n",
       "      <th>Building</th>\n",
       "      <th>Room</th>\n",
       "      <th>Staff</th>\n",
       "    </tr>\n",
       "  </thead>\n",
       "  <tbody>\n",
       "    <tr>\n",
       "      <th>0</th>\n",
       "      <td>Accelerated Natural Language Processing - Tuto...</td>\n",
       "      <td>NaN</td>\n",
       "      <td>*Tutorial</td>\n",
       "      <td>10:00</td>\n",
       "      <td>10:50</td>\n",
       "      <td>Sem1 wk4-Sem1 wk5, Sem1 wk7-Sem1 wk10</td>\n",
       "      <td>Appleton Tower</td>\n",
       "      <td>AT_G.05</td>\n",
       "      <td>NaN</td>\n",
       "    </tr>\n",
       "    <tr>\n",
       "      <th>1</th>\n",
       "      <td>Accelerated Natural Language Processing - Drop...</td>\n",
       "      <td>NaN</td>\n",
       "      <td>*Seminar - Online Live</td>\n",
       "      <td>12:10</td>\n",
       "      <td>13:00</td>\n",
       "      <td>Sem1 wk1-Sem1 wk11</td>\n",
       "      <td>NaN</td>\n",
       "      <td>NaN</td>\n",
       "      <td>NaN</td>\n",
       "    </tr>\n",
       "    <tr>\n",
       "      <th>2</th>\n",
       "      <td>Accelerated Natural Language Processing - Tuto...</td>\n",
       "      <td>NaN</td>\n",
       "      <td>*Tutorial</td>\n",
       "      <td>13:10</td>\n",
       "      <td>14:00</td>\n",
       "      <td>Sem1 wk4-Sem1 wk5, Sem1 wk7-Sem1 wk10</td>\n",
       "      <td>lister-learning-and-teaching-centre</td>\n",
       "      <td>LLTC_3.1</td>\n",
       "      <td>NaN</td>\n",
       "    </tr>\n",
       "    <tr>\n",
       "      <th>3</th>\n",
       "      <td>Accelerated Natural Language Processing - Tuto...</td>\n",
       "      <td>NaN</td>\n",
       "      <td>*Tutorial</td>\n",
       "      <td>14:10</td>\n",
       "      <td>15:00</td>\n",
       "      <td>Sem1 wk4-Sem1 wk5, Sem1 wk7-Sem1 wk10</td>\n",
       "      <td>lister-learning-and-teaching-centre</td>\n",
       "      <td>LLTC_3.1</td>\n",
       "      <td>NaN</td>\n",
       "    </tr>\n",
       "    <tr>\n",
       "      <th>4</th>\n",
       "      <td>Accelerated Natural Language Processing - Tuto...</td>\n",
       "      <td>NaN</td>\n",
       "      <td>*Tutorial</td>\n",
       "      <td>15:10</td>\n",
       "      <td>16:00</td>\n",
       "      <td>Sem1 wk4-Sem1 wk5, Sem1 wk7-Sem1 wk10</td>\n",
       "      <td>lister-learning-and-teaching-centre</td>\n",
       "      <td>LLTC_3.1</td>\n",
       "      <td>NaN</td>\n",
       "    </tr>\n",
       "  </tbody>\n",
       "</table>\n",
       "</div>"
      ],
      "text/plain": [
       "                                            Activity  Description  \\\n",
       "0  Accelerated Natural Language Processing - Tuto...          NaN   \n",
       "1  Accelerated Natural Language Processing - Drop...          NaN   \n",
       "2  Accelerated Natural Language Processing - Tuto...          NaN   \n",
       "3  Accelerated Natural Language Processing - Tuto...          NaN   \n",
       "4  Accelerated Natural Language Processing - Tuto...          NaN   \n",
       "\n",
       "                     Type  Start    End  \\\n",
       "0               *Tutorial  10:00  10:50   \n",
       "1  *Seminar - Online Live  12:10  13:00   \n",
       "2               *Tutorial  13:10  14:00   \n",
       "3               *Tutorial  14:10  15:00   \n",
       "4               *Tutorial  15:10  16:00   \n",
       "\n",
       "                                   Weeks                             Building  \\\n",
       "0  Sem1 wk4-Sem1 wk5, Sem1 wk7-Sem1 wk10                       Appleton Tower   \n",
       "1                     Sem1 wk1-Sem1 wk11                                  NaN   \n",
       "2  Sem1 wk4-Sem1 wk5, Sem1 wk7-Sem1 wk10  lister-learning-and-teaching-centre   \n",
       "3  Sem1 wk4-Sem1 wk5, Sem1 wk7-Sem1 wk10  lister-learning-and-teaching-centre   \n",
       "4  Sem1 wk4-Sem1 wk5, Sem1 wk7-Sem1 wk10  lister-learning-and-teaching-centre   \n",
       "\n",
       "       Room  Staff  \n",
       "0   AT_G.05    NaN  \n",
       "1       NaN    NaN  \n",
       "2  LLTC_3.1    NaN  \n",
       "3  LLTC_3.1    NaN  \n",
       "4  LLTC_3.1    NaN  "
      ]
     },
     "execution_count": 3,
     "metadata": {},
     "output_type": "execute_result"
    }
   ],
   "source": [
    "timetable_data_path = os.path.join(os.getcwd(), 'datasets', 'SWSCUST Object TextSpreadsheet.html')\n",
    "timetable_data_list = pd.read_html(timetable_data_path, match='Activity', header=0)\n",
    "print(\"Tables parsed:\", len(timetable_data_list))\n",
    "print(\"Example table:\")\n",
    "timetable_data_list[2].head()"
   ]
  },
  {
   "cell_type": "markdown",
   "metadata": {},
   "source": [
    "**Exercise 08:** We currently have a list of DataFrames, where each DataFrame is a table parsed from the HTML page. Can you create one DataFrame that contains all of these tables? Assign it the variable name `timetable_data`.\n",
    "\n",
    "- **Hint 1:** Printing the shape of the resulting DataFrame should return (501, 9).\n",
    "- **Hint 2:** You met the required function in the first Data Wranging lab, but there its argument was a list with only two members."
   ]
  },
  {
   "cell_type": "code",
   "execution_count": 29,
   "metadata": {},
   "outputs": [],
   "source": [
    "timetable_data = pd.concat(timetable_data_list)"
   ]
  },
  {
   "cell_type": "code",
   "execution_count": 7,
   "metadata": {},
   "outputs": [
    {
     "data": {
      "text/plain": [
       "(501, 9)"
      ]
     },
     "execution_count": 7,
     "metadata": {},
     "output_type": "execute_result"
    }
   ],
   "source": [
    "timetable_data.shape"
   ]
  },
  {
   "cell_type": "markdown",
   "metadata": {},
   "source": [
    "Regular expressions can also be useful for stripping extra whitespace or unnecessary characters from your data.\n",
    "\n",
    "**Exercise 09:** Use a regular expression to strip the '*' characters from the values in the 'Type' column."
   ]
  },
  {
   "cell_type": "code",
   "execution_count": 31,
   "metadata": {},
   "outputs": [
    {
     "data": {
      "text/plain": [
       "0    Computer Workshop - Online Live\n",
       "0              Lecture - Online Live\n",
       "0                           Tutorial\n",
       "1              Seminar - Online Live\n",
       "2                           Tutorial\n",
       "                  ...               \n",
       "1           Laboratory - Online Live\n",
       "0              Lecture - Online Live\n",
       "0                          Practical\n",
       "0                            Lecture\n",
       "0                            Lecture\n",
       "Name: Type, Length: 501, dtype: object"
      ]
     },
     "execution_count": 31,
     "metadata": {},
     "output_type": "execute_result"
    }
   ],
   "source": [
    "timetable_data['Type'].apply(lambda x: re.sub('\\*', '', x))"
   ]
  },
  {
   "cell_type": "markdown",
   "metadata": {},
   "source": [
    "Since `pd.read_html` only parses `<table>` elements, with the layout of 'SWSCUST Object TextSpreadsheet.html' its tricky to neatly associate each table with its associated day of the week (which are specified in `<p>` tags) and course. HTML can be notoriously messy to parse. Thankfully, there are several external libraries which can be useful for this task, some of which we'll look at in a later lab.\n",
    "\n",
    "The current 'Activity' column of our data contains the name of the course, and sometimes specific details regarding the activity. For now, we'll try to remove the latter details so we can later group our timetables by course."
   ]
  },
  {
   "cell_type": "code",
   "execution_count": 32,
   "metadata": {},
   "outputs": [
    {
     "name": "stdout",
     "output_type": "stream",
     "text": [
      "402 detailed activities reduced to 56.\n"
     ]
    }
   ],
   "source": [
    "def course_name_from_activity(activity_str):\n",
    "    \"\"\"Attempts to extract the course name from the 'Activity' column\n",
    "    of the timetable data. Warning: this function is not perfect! There are still some\n",
    "    exceptions in the formatting of the course names which are not captured.\"\"\"\n",
    "    if re.search('[-]', activity_str):\n",
    "        match = re.match('^(Informatics \\d - )?.*(?= - )', activity_str)\n",
    "        assert match is not None, f\"No match found for '{activity_str}'.\"\n",
    "        return match.group()  # Return the matched string (instead of Match object)\n",
    "    return activity_str\n",
    "\n",
    "timetable_data[\"Course Name\"] = timetable_data[\"Activity\"].apply(lambda x: course_name_from_activity(x))\n",
    "\n",
    "num_activities = timetable_data[\"Activity\"].nunique()\n",
    "extracted_courses = timetable_data[\"Course Name\"].nunique()\n",
    "print(f\"{num_activities} detailed activities reduced to {extracted_courses}.\")"
   ]
  },
  {
   "cell_type": "markdown",
   "metadata": {},
   "source": [
    "### B.2 Groupwise computations\n",
    "\n",
    "By _groupby_ (or _split-apply-combine_) we are referring to a process involving one or more of the following steps:\n",
    "\n",
    "* Splitting the data into groups based on some criteria.\n",
    "* Applying a function to each group independently. This could include computing a summary statistic for each group, such as a mean or count; performing some group-specific computation such as standardising the data within a group; as well as filtering to discard data that has only a few members, for example.\n",
    "* Combining the results into a data structure."
   ]
  },
  {
   "cell_type": "code",
   "execution_count": 33,
   "metadata": {},
   "outputs": [
    {
     "data": {
      "text/html": [
       "<div>\n",
       "<style scoped>\n",
       "    .dataframe tbody tr th:only-of-type {\n",
       "        vertical-align: middle;\n",
       "    }\n",
       "\n",
       "    .dataframe tbody tr th {\n",
       "        vertical-align: top;\n",
       "    }\n",
       "\n",
       "    .dataframe thead th {\n",
       "        text-align: right;\n",
       "    }\n",
       "</style>\n",
       "<table border=\"1\" class=\"dataframe\">\n",
       "  <thead>\n",
       "    <tr style=\"text-align: right;\">\n",
       "      <th></th>\n",
       "      <th>Type</th>\n",
       "      <th>Start</th>\n",
       "      <th>End</th>\n",
       "      <th>Weeks</th>\n",
       "      <th>Building</th>\n",
       "      <th>Room</th>\n",
       "      <th>Course Name</th>\n",
       "    </tr>\n",
       "  </thead>\n",
       "  <tbody>\n",
       "    <tr>\n",
       "      <th>0</th>\n",
       "      <td>Computer Workshop - Online Live</td>\n",
       "      <td>14:10</td>\n",
       "      <td>15:00</td>\n",
       "      <td>Sem1 wk2-Sem1 wk3, Sem1 wk7, Sem1 wk9</td>\n",
       "      <td>NaN</td>\n",
       "      <td>NaN</td>\n",
       "      <td>Accelerated Natural Language Processing</td>\n",
       "    </tr>\n",
       "    <tr>\n",
       "      <th>0</th>\n",
       "      <td>*Lecture - Online Live</td>\n",
       "      <td>11:10</td>\n",
       "      <td>12:00</td>\n",
       "      <td>Sem1 wk1-Sem1 wk10</td>\n",
       "      <td>NaN</td>\n",
       "      <td>NaN</td>\n",
       "      <td>Accelerated Natural Language Processing - Lecture</td>\n",
       "    </tr>\n",
       "    <tr>\n",
       "      <th>0</th>\n",
       "      <td>*Tutorial</td>\n",
       "      <td>10:00</td>\n",
       "      <td>10:50</td>\n",
       "      <td>Sem1 wk4-Sem1 wk5, Sem1 wk7-Sem1 wk10</td>\n",
       "      <td>Appleton Tower</td>\n",
       "      <td>AT_G.05</td>\n",
       "      <td>Accelerated Natural Language Processing</td>\n",
       "    </tr>\n",
       "    <tr>\n",
       "      <th>1</th>\n",
       "      <td>*Seminar - Online Live</td>\n",
       "      <td>12:10</td>\n",
       "      <td>13:00</td>\n",
       "      <td>Sem1 wk1-Sem1 wk11</td>\n",
       "      <td>NaN</td>\n",
       "      <td>NaN</td>\n",
       "      <td>Accelerated Natural Language Processing</td>\n",
       "    </tr>\n",
       "    <tr>\n",
       "      <th>2</th>\n",
       "      <td>*Tutorial</td>\n",
       "      <td>13:10</td>\n",
       "      <td>14:00</td>\n",
       "      <td>Sem1 wk4-Sem1 wk5, Sem1 wk7-Sem1 wk10</td>\n",
       "      <td>lister-learning-and-teaching-centre</td>\n",
       "      <td>LLTC_3.1</td>\n",
       "      <td>Accelerated Natural Language Processing</td>\n",
       "    </tr>\n",
       "  </tbody>\n",
       "</table>\n",
       "</div>"
      ],
      "text/plain": [
       "                              Type  Start    End  \\\n",
       "0  Computer Workshop - Online Live  14:10  15:00   \n",
       "0           *Lecture - Online Live  11:10  12:00   \n",
       "0                        *Tutorial  10:00  10:50   \n",
       "1           *Seminar - Online Live  12:10  13:00   \n",
       "2                        *Tutorial  13:10  14:00   \n",
       "\n",
       "                                   Weeks                             Building  \\\n",
       "0  Sem1 wk2-Sem1 wk3, Sem1 wk7, Sem1 wk9                                  NaN   \n",
       "0                     Sem1 wk1-Sem1 wk10                                  NaN   \n",
       "0  Sem1 wk4-Sem1 wk5, Sem1 wk7-Sem1 wk10                       Appleton Tower   \n",
       "1                     Sem1 wk1-Sem1 wk11                                  NaN   \n",
       "2  Sem1 wk4-Sem1 wk5, Sem1 wk7-Sem1 wk10  lister-learning-and-teaching-centre   \n",
       "\n",
       "       Room                                        Course Name  \n",
       "0       NaN            Accelerated Natural Language Processing  \n",
       "0       NaN  Accelerated Natural Language Processing - Lecture  \n",
       "0   AT_G.05            Accelerated Natural Language Processing  \n",
       "1       NaN            Accelerated Natural Language Processing  \n",
       "2  LLTC_3.1            Accelerated Natural Language Processing  "
      ]
     },
     "execution_count": 33,
     "metadata": {},
     "output_type": "execute_result"
    }
   ],
   "source": [
    "# First let's drop some of the empty or redundant columns\n",
    "timetable_data = timetable_data.drop(['Activity', 'Description', 'Staff'], axis=1)\n",
    "timetable_data.head()"
   ]
  },
  {
   "cell_type": "markdown",
   "metadata": {},
   "source": [
    "To group our data according to course name, we can do the following:"
   ]
  },
  {
   "cell_type": "code",
   "execution_count": 34,
   "metadata": {},
   "outputs": [
    {
     "data": {
      "text/html": [
       "<div>\n",
       "<style scoped>\n",
       "    .dataframe tbody tr th:only-of-type {\n",
       "        vertical-align: middle;\n",
       "    }\n",
       "\n",
       "    .dataframe tbody tr th {\n",
       "        vertical-align: top;\n",
       "    }\n",
       "\n",
       "    .dataframe thead th {\n",
       "        text-align: right;\n",
       "    }\n",
       "</style>\n",
       "<table border=\"1\" class=\"dataframe\">\n",
       "  <thead>\n",
       "    <tr style=\"text-align: right;\">\n",
       "      <th></th>\n",
       "      <th>Type</th>\n",
       "      <th>Start</th>\n",
       "      <th>End</th>\n",
       "      <th>Weeks</th>\n",
       "      <th>Building</th>\n",
       "      <th>Room</th>\n",
       "      <th>Course Name</th>\n",
       "    </tr>\n",
       "  </thead>\n",
       "  <tbody>\n",
       "    <tr>\n",
       "      <th>0</th>\n",
       "      <td>Computer Workshop - Online Live</td>\n",
       "      <td>14:10</td>\n",
       "      <td>15:00</td>\n",
       "      <td>Sem1 wk2-Sem1 wk3, Sem1 wk7, Sem1 wk9</td>\n",
       "      <td>NaN</td>\n",
       "      <td>NaN</td>\n",
       "      <td>Accelerated Natural Language Processing</td>\n",
       "    </tr>\n",
       "    <tr>\n",
       "      <th>0</th>\n",
       "      <td>*Tutorial</td>\n",
       "      <td>10:00</td>\n",
       "      <td>10:50</td>\n",
       "      <td>Sem1 wk4-Sem1 wk5, Sem1 wk7-Sem1 wk10</td>\n",
       "      <td>Appleton Tower</td>\n",
       "      <td>AT_G.05</td>\n",
       "      <td>Accelerated Natural Language Processing</td>\n",
       "    </tr>\n",
       "    <tr>\n",
       "      <th>1</th>\n",
       "      <td>*Seminar - Online Live</td>\n",
       "      <td>12:10</td>\n",
       "      <td>13:00</td>\n",
       "      <td>Sem1 wk1-Sem1 wk11</td>\n",
       "      <td>NaN</td>\n",
       "      <td>NaN</td>\n",
       "      <td>Accelerated Natural Language Processing</td>\n",
       "    </tr>\n",
       "    <tr>\n",
       "      <th>2</th>\n",
       "      <td>*Tutorial</td>\n",
       "      <td>13:10</td>\n",
       "      <td>14:00</td>\n",
       "      <td>Sem1 wk4-Sem1 wk5, Sem1 wk7-Sem1 wk10</td>\n",
       "      <td>lister-learning-and-teaching-centre</td>\n",
       "      <td>LLTC_3.1</td>\n",
       "      <td>Accelerated Natural Language Processing</td>\n",
       "    </tr>\n",
       "    <tr>\n",
       "      <th>3</th>\n",
       "      <td>*Tutorial</td>\n",
       "      <td>14:10</td>\n",
       "      <td>15:00</td>\n",
       "      <td>Sem1 wk4-Sem1 wk5, Sem1 wk7-Sem1 wk10</td>\n",
       "      <td>lister-learning-and-teaching-centre</td>\n",
       "      <td>LLTC_3.1</td>\n",
       "      <td>Accelerated Natural Language Processing</td>\n",
       "    </tr>\n",
       "    <tr>\n",
       "      <th>4</th>\n",
       "      <td>*Tutorial</td>\n",
       "      <td>15:10</td>\n",
       "      <td>16:00</td>\n",
       "      <td>Sem1 wk4-Sem1 wk5, Sem1 wk7-Sem1 wk10</td>\n",
       "      <td>lister-learning-and-teaching-centre</td>\n",
       "      <td>LLTC_3.1</td>\n",
       "      <td>Accelerated Natural Language Processing</td>\n",
       "    </tr>\n",
       "    <tr>\n",
       "      <th>5</th>\n",
       "      <td>Computer Workshop - Online Live</td>\n",
       "      <td>16:10</td>\n",
       "      <td>17:00</td>\n",
       "      <td>Sem1 wk1</td>\n",
       "      <td>NaN</td>\n",
       "      <td>NaN</td>\n",
       "      <td>Accelerated Natural Language Processing</td>\n",
       "    </tr>\n",
       "    <tr>\n",
       "      <th>6</th>\n",
       "      <td>*Tutorial</td>\n",
       "      <td>16:10</td>\n",
       "      <td>17:00</td>\n",
       "      <td>Sem1 wk4-Sem1 wk5, Sem1 wk7-Sem1 wk10</td>\n",
       "      <td>lister-learning-and-teaching-centre</td>\n",
       "      <td>LLTC_3.1</td>\n",
       "      <td>Accelerated Natural Language Processing</td>\n",
       "    </tr>\n",
       "    <tr>\n",
       "      <th>0</th>\n",
       "      <td>*Tutorial</td>\n",
       "      <td>10:00</td>\n",
       "      <td>10:50</td>\n",
       "      <td>Sem1 wk4-Sem1 wk5, Sem1 wk7-Sem1 wk10</td>\n",
       "      <td>Appleton Tower</td>\n",
       "      <td>AT_G.05</td>\n",
       "      <td>Accelerated Natural Language Processing</td>\n",
       "    </tr>\n",
       "    <tr>\n",
       "      <th>1</th>\n",
       "      <td>*Tutorial</td>\n",
       "      <td>11:10</td>\n",
       "      <td>12:00</td>\n",
       "      <td>Sem1 wk4-Sem1 wk5, Sem1 wk7-Sem1 wk10</td>\n",
       "      <td>lister-learning-and-teaching-centre</td>\n",
       "      <td>LLTC_3.1</td>\n",
       "      <td>Accelerated Natural Language Processing</td>\n",
       "    </tr>\n",
       "    <tr>\n",
       "      <th>2</th>\n",
       "      <td>*Tutorial</td>\n",
       "      <td>12:10</td>\n",
       "      <td>13:00</td>\n",
       "      <td>Sem1 wk4-Sem1 wk5, Sem1 wk7-Sem1 wk10</td>\n",
       "      <td>Appleton Tower</td>\n",
       "      <td>AT_G.05</td>\n",
       "      <td>Accelerated Natural Language Processing</td>\n",
       "    </tr>\n",
       "    <tr>\n",
       "      <th>3</th>\n",
       "      <td>*Tutorial</td>\n",
       "      <td>13:10</td>\n",
       "      <td>14:00</td>\n",
       "      <td>Sem1 wk4-Sem1 wk5, Sem1 wk7-Sem1 wk10</td>\n",
       "      <td>lister-learning-and-teaching-centre</td>\n",
       "      <td>LLTC_3.1</td>\n",
       "      <td>Accelerated Natural Language Processing</td>\n",
       "    </tr>\n",
       "    <tr>\n",
       "      <th>4</th>\n",
       "      <td>*Tutorial</td>\n",
       "      <td>14:10</td>\n",
       "      <td>15:00</td>\n",
       "      <td>Sem1 wk4-Sem1 wk5, Sem1 wk7-Sem1 wk10</td>\n",
       "      <td>lister-learning-and-teaching-centre</td>\n",
       "      <td>LLTC_3.1</td>\n",
       "      <td>Accelerated Natural Language Processing</td>\n",
       "    </tr>\n",
       "    <tr>\n",
       "      <th>5</th>\n",
       "      <td>Computer Workshop - Online Live</td>\n",
       "      <td>15:10</td>\n",
       "      <td>16:00</td>\n",
       "      <td>Sem1 wk1-Sem1 wk2, Sem1 wk6, Sem1 wk8</td>\n",
       "      <td>NaN</td>\n",
       "      <td>NaN</td>\n",
       "      <td>Accelerated Natural Language Processing</td>\n",
       "    </tr>\n",
       "  </tbody>\n",
       "</table>\n",
       "</div>"
      ],
      "text/plain": [
       "                              Type  Start    End  \\\n",
       "0  Computer Workshop - Online Live  14:10  15:00   \n",
       "0                        *Tutorial  10:00  10:50   \n",
       "1           *Seminar - Online Live  12:10  13:00   \n",
       "2                        *Tutorial  13:10  14:00   \n",
       "3                        *Tutorial  14:10  15:00   \n",
       "4                        *Tutorial  15:10  16:00   \n",
       "5  Computer Workshop - Online Live  16:10  17:00   \n",
       "6                        *Tutorial  16:10  17:00   \n",
       "0                        *Tutorial  10:00  10:50   \n",
       "1                        *Tutorial  11:10  12:00   \n",
       "2                        *Tutorial  12:10  13:00   \n",
       "3                        *Tutorial  13:10  14:00   \n",
       "4                        *Tutorial  14:10  15:00   \n",
       "5  Computer Workshop - Online Live  15:10  16:00   \n",
       "\n",
       "                                   Weeks                             Building  \\\n",
       "0  Sem1 wk2-Sem1 wk3, Sem1 wk7, Sem1 wk9                                  NaN   \n",
       "0  Sem1 wk4-Sem1 wk5, Sem1 wk7-Sem1 wk10                       Appleton Tower   \n",
       "1                     Sem1 wk1-Sem1 wk11                                  NaN   \n",
       "2  Sem1 wk4-Sem1 wk5, Sem1 wk7-Sem1 wk10  lister-learning-and-teaching-centre   \n",
       "3  Sem1 wk4-Sem1 wk5, Sem1 wk7-Sem1 wk10  lister-learning-and-teaching-centre   \n",
       "4  Sem1 wk4-Sem1 wk5, Sem1 wk7-Sem1 wk10  lister-learning-and-teaching-centre   \n",
       "5                               Sem1 wk1                                  NaN   \n",
       "6  Sem1 wk4-Sem1 wk5, Sem1 wk7-Sem1 wk10  lister-learning-and-teaching-centre   \n",
       "0  Sem1 wk4-Sem1 wk5, Sem1 wk7-Sem1 wk10                       Appleton Tower   \n",
       "1  Sem1 wk4-Sem1 wk5, Sem1 wk7-Sem1 wk10  lister-learning-and-teaching-centre   \n",
       "2  Sem1 wk4-Sem1 wk5, Sem1 wk7-Sem1 wk10                       Appleton Tower   \n",
       "3  Sem1 wk4-Sem1 wk5, Sem1 wk7-Sem1 wk10  lister-learning-and-teaching-centre   \n",
       "4  Sem1 wk4-Sem1 wk5, Sem1 wk7-Sem1 wk10  lister-learning-and-teaching-centre   \n",
       "5  Sem1 wk1-Sem1 wk2, Sem1 wk6, Sem1 wk8                                  NaN   \n",
       "\n",
       "       Room                              Course Name  \n",
       "0       NaN  Accelerated Natural Language Processing  \n",
       "0   AT_G.05  Accelerated Natural Language Processing  \n",
       "1       NaN  Accelerated Natural Language Processing  \n",
       "2  LLTC_3.1  Accelerated Natural Language Processing  \n",
       "3  LLTC_3.1  Accelerated Natural Language Processing  \n",
       "4  LLTC_3.1  Accelerated Natural Language Processing  \n",
       "5       NaN  Accelerated Natural Language Processing  \n",
       "6  LLTC_3.1  Accelerated Natural Language Processing  \n",
       "0   AT_G.05  Accelerated Natural Language Processing  \n",
       "1  LLTC_3.1  Accelerated Natural Language Processing  \n",
       "2   AT_G.05  Accelerated Natural Language Processing  \n",
       "3  LLTC_3.1  Accelerated Natural Language Processing  \n",
       "4  LLTC_3.1  Accelerated Natural Language Processing  \n",
       "5       NaN  Accelerated Natural Language Processing  "
      ]
     },
     "execution_count": 34,
     "metadata": {},
     "output_type": "execute_result"
    }
   ],
   "source": [
    "# Group data by variable of interest\n",
    "grouped_by_name = timetable_data.groupby(\"Course Name\")\n",
    "# Retrieve a given group by name\n",
    "grouped_by_name.get_group(\"Accelerated Natural Language Processing\")"
   ]
  },
  {
   "cell_type": "markdown",
   "metadata": {},
   "source": [
    "Computations can then be performed on the grouped DataFrame like finding the size of each group:"
   ]
  },
  {
   "cell_type": "code",
   "execution_count": 35,
   "metadata": {},
   "outputs": [
    {
     "data": {
      "text/plain": [
       "Course Name\n",
       "Accelerated Natural Language Processing                    14\n",
       "Accelerated Natural Language Processing - Lecture           1\n",
       "Automated Reasoning                                         3\n",
       "Bioinformatics 1                                            1\n",
       "Bioinformatics 1 - Tutorial/Lab                             2\n",
       "Blockchains and Distributed Ledgers                         1\n",
       "Case Studies in Design Informatics 1                        8\n",
       "Case Studies in Design Informatics 2                        3\n",
       "Computational Cognitive Science                             6\n",
       "Computer Architecture and Design                            9\n",
       "Computer Graphics (Level 11)                                5\n",
       "Computing in the Classroom                                  1\n",
       "Data-driven Business and Behaviour                          8\n",
       "Design and Analysis of Parallel Algorithms                  2\n",
       "Discrete Mathematics and Probability                       18\n",
       "Doing Research in Natural Language Processing               2\n",
       "Drop-in EPCC                                                1\n",
       "EPCC                                                        3\n",
       "Explainable Machine Learning: A Practical Introduction      2\n",
       "Extreme Computing                                           1\n",
       "Formal Verification                                         3\n",
       "Fundamentals of Data Management                             3\n",
       "Group Project in Advanced Natural Language Processing       3\n",
       "HPC Architectures                                           6\n",
       "Human-Computer Interaction (Level 11)                       1\n",
       "Image and Vision Computing                                  3\n",
       "Informatics 1 - Introduction to Computation                55\n",
       "Informatics 2 - Foundations of Data Science                15\n",
       "Informatics 2 - Intro to Algorithms & Data Structures      27\n",
       "Informatics 2C - Intro to Computer Systems                 18\n",
       "Informatics Connect                                         1\n",
       "Informatics Large Practical                                 2\n",
       "Informatics Research Review                                26\n",
       "Introduction to Databases                                   5\n",
       "Introduction to Practical Programming with Objects          2\n",
       "Introduction to Quantum Computing                           5\n",
       "Introduction to Vision and Robotics                        12\n",
       "Introductory Applied Machine Learning                     136\n",
       "Issues in Clinical Data Modelling                           1\n",
       "Machine Learning Practical                                  9\n",
       "Machine Learning and Pattern Recognition                   11\n",
       "Message-passing Programming                                 3\n",
       "Natural Computing                                          16\n",
       "Numerical Algorithms for High Performance Computing         3\n",
       "Parallel Programming                                        2\n",
       "Principles and Design of IoT Systems                        5\n",
       "Professional Issues (Level 10)                             15\n",
       "Programming Skills                                          2\n",
       "Project Preparation                                         1\n",
       "Project Preparation and Dissertation                        1\n",
       "Research Methods in Security, Privacy, and Trust            4\n",
       "Robotics: Science and Systems                               4\n",
       "Secure Programming                                          3\n",
       "Software Design and Modelling                               1\n",
       "Text Technologies for Data Science                          3\n",
       "Threaded Programming                                        3\n",
       "dtype: int64"
      ]
     },
     "execution_count": 35,
     "metadata": {},
     "output_type": "execute_result"
    }
   ],
   "source": [
    "# Count the number of 'activities' scheduled for each course in semester 1\n",
    "grouped_by_name.size()"
   ]
  },
  {
   "cell_type": "markdown",
   "metadata": {},
   "source": [
    "We can check that a few of the groups have the size that we expect in the list above:"
   ]
  },
  {
   "cell_type": "code",
   "execution_count": 36,
   "metadata": {},
   "outputs": [
    {
     "name": "stdout",
     "output_type": "stream",
     "text": [
      "14\n",
      "16\n"
     ]
    }
   ],
   "source": [
    "print(len(grouped_by_name.get_group(\"Accelerated Natural Language Processing\")))\n",
    "print(len(grouped_by_name.get_group(\"Natural Computing\")))"
   ]
  },
  {
   "cell_type": "markdown",
   "metadata": {},
   "source": [
    "We can also group by multiple variables:"
   ]
  },
  {
   "cell_type": "code",
   "execution_count": 37,
   "metadata": {},
   "outputs": [
    {
     "data": {
      "text/plain": [
       "Course Name                                        Type                           \n",
       "Accelerated Natural Language Processing            *Seminar - Online Live              1\n",
       "                                                   *Tutorial                          10\n",
       "                                                   Computer Workshop - Online Live     3\n",
       "Accelerated Natural Language Processing - Lecture  *Lecture - Online Live              1\n",
       "Automated Reasoning                                *Lecture                            2\n",
       "                                                                                      ..\n",
       "Software Design and Modelling                      *Lecture - Online Live              1\n",
       "Text Technologies for Data Science                 *Laboratory - Online Live           2\n",
       "                                                   *Lecture - Online Live              1\n",
       "Threaded Programming                               *Lecture                            2\n",
       "                                                   *Practical                          1\n",
       "Length: 113, dtype: int64"
      ]
     },
     "execution_count": 37,
     "metadata": {},
     "output_type": "execute_result"
    }
   ],
   "source": [
    "# For each course, display the number of scheduled entries for each activity type\n",
    "timetable_data.groupby([\"Course Name\", \"Type\"]).size()"
   ]
  },
  {
   "cell_type": "markdown",
   "metadata": {},
   "source": [
    "You can apply various functions to `GroupBy` objects. For example `.mean()` and `.median()` compute the mean and median of the numeric variables in each group."
   ]
  },
  {
   "cell_type": "markdown",
   "metadata": {},
   "source": [
    "**Exercise 10:** Ignoring entries which have NaN values, perform group-wise computations on the timetable data (and refer to pandas documentation) to answer the following questions:\n",
    "\n",
    "a) Which building has the largest number of rooms in it? \n",
    "\n",
    "b) Which room is used the most across all the buildings, and which building is it in?\n",
    "\n",
    "c) What is the mean and median length of a 'Lecture' in Informatics?\n",
    "\n",
    "d) Which on average, is the longest activity type scheduled (i.e. lectures, tutorials, labs, etc.)?"
   ]
  },
  {
   "cell_type": "code",
   "execution_count": 49,
   "metadata": {},
   "outputs": [
    {
     "name": "stdout",
     "output_type": "stream",
     "text": [
      "Appleton Tower: 175\n",
      "lister-learning-and-teaching-centre: 17\n",
      "40 George Square Lower Teaching Hub: 38\n",
      "7 George Square: 1\n",
      "40 George Square: 4\n",
      "40 George Square Lecture Theatres: 16\n",
      "Old College: 4\n",
      "Medical School: 1\n",
      "Bayes Centre: 9\n",
      "George Square Theatre: 1\n",
      "Informatics Forum: 4\n"
     ]
    }
   ],
   "source": [
    "buildinggroup = timetable_data.groupby(\"Building\")\n",
    "buildingNames = timetable_data['Building'].unique()\n",
    "# To remove the nan entry\n",
    "buildingNames = buildingNames[1:]\n",
    "for buildingName in buildingNames:\n",
    "    print(buildingName + \":\", buildinggroup.get_group(buildingName)['Room'].count())    "
   ]
  },
  {
   "cell_type": "code",
   "execution_count": 61,
   "metadata": {},
   "outputs": [
    {
     "name": "stdout",
     "output_type": "stream",
     "text": [
      "40GS_LG.07 - Teaching Studio\n"
     ]
    }
   ],
   "source": [
    "roomgroups = timetable_data.groupby(\"Room\")\n",
    "roomNames = timetable_data[\"Room\"].unique()[1:]\n",
    "roomUses = []\n",
    "for roomName in roomNames:\n",
    "    roomUses.append(len(roomgroups.get_group(roomName)))\n",
    "print(roomNames[np.argmax(roomUses)])"
   ]
  },
  {
   "cell_type": "code",
   "execution_count": null,
   "metadata": {},
   "outputs": [],
   "source": [
    "# Your code"
   ]
  },
  {
   "cell_type": "code",
   "execution_count": null,
   "metadata": {},
   "outputs": [],
   "source": [
    "# Your code"
   ]
  }
 ],
 "metadata": {
  "kernelspec": {
   "display_name": "Python 3.10.4 ('fdslabsenv')",
   "language": "python",
   "name": "python3"
  },
  "language_info": {
   "codemirror_mode": {
    "name": "ipython",
    "version": 3
   },
   "file_extension": ".py",
   "mimetype": "text/x-python",
   "name": "python",
   "nbconvert_exporter": "python",
   "pygments_lexer": "ipython3",
   "version": "3.10.4"
  },
  "metadata": {
   "interpreter": {
    "hash": "49bd69289ce3351ea88ada7e23166e5bac6edb151d8bda4b1b5987655ded3d35"
   }
  },
  "vscode": {
   "interpreter": {
    "hash": "8b0af48e3506369dc2e8bd191aaab652da2d9dd7f3b323d15d519516f732b4cb"
   }
  }
 },
 "nbformat": 4,
 "nbformat_minor": 4
}
